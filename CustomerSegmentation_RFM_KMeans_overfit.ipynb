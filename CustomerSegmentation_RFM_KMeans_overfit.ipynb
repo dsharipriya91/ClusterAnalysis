{
 "cells": [
  {
   "cell_type": "markdown",
   "metadata": {},
   "source": [
    "## Customer Segmentation using K-Means Clustering\n",
    "\n",
    "The dateset used in this Cluster Analysis can be found <a href=\"https://www.kaggle.com/vijayuv/onlineretail\">here</a>\n",
    "\n",
    "The steps taken in this project are:\n",
    "* **Data Cleaning**\n",
    "* **Create RFM Table**\n",
    "* **Manage Skew**\n",
    "* **Standardize Variables**\n",
    "* **Clustering - using KMeans**\n",
    "For each variable R/F/M\n",
    "    - Plot Screeplot\n",
    "    - Silhouette score\n",
    "    - Clustering - assign clusters for each of RFM\n",
    "* **Segmenting Customers**\n",
    "Identify Cluster characteristics and segment into\n",
    "    - New Customers\n",
    "    - Non Returning Customers\n",
    "    - Low Value Customers\n",
    "    - Mid Value Customers\n",
    "    - High Value Customers\n",
    "* **Segment Visualization**\n",
    "* **Segment Analysis**\n",
    "* **Conclusion on KMeans**\n"
   ]
  },
  {
   "cell_type": "markdown",
   "metadata": {},
   "source": [
    "---"
   ]
  },
  {
   "cell_type": "code",
   "execution_count": 1,
   "metadata": {},
   "outputs": [],
   "source": [
    "import pandas as pd\n",
    "from datetime import datetime, timedelta\n",
    "import seaborn as sns\n",
    "import numpy as np\n",
    "import matplotlib.pyplot as plt"
   ]
  },
  {
   "cell_type": "code",
   "execution_count": 2,
   "metadata": {},
   "outputs": [],
   "source": [
    "df = pd.read_csv('OnlineRetail.csv',  encoding= 'unicode_escape')"
   ]
  },
  {
   "cell_type": "code",
   "execution_count": 3,
   "metadata": {},
   "outputs": [
    {
     "data": {
      "text/html": [
       "<div>\n",
       "<style scoped>\n",
       "    .dataframe tbody tr th:only-of-type {\n",
       "        vertical-align: middle;\n",
       "    }\n",
       "\n",
       "    .dataframe tbody tr th {\n",
       "        vertical-align: top;\n",
       "    }\n",
       "\n",
       "    .dataframe thead th {\n",
       "        text-align: right;\n",
       "    }\n",
       "</style>\n",
       "<table border=\"1\" class=\"dataframe\">\n",
       "  <thead>\n",
       "    <tr style=\"text-align: right;\">\n",
       "      <th></th>\n",
       "      <th>InvoiceNo</th>\n",
       "      <th>StockCode</th>\n",
       "      <th>Description</th>\n",
       "      <th>Quantity</th>\n",
       "      <th>InvoiceDate</th>\n",
       "      <th>UnitPrice</th>\n",
       "      <th>CustomerID</th>\n",
       "      <th>Country</th>\n",
       "    </tr>\n",
       "  </thead>\n",
       "  <tbody>\n",
       "    <tr>\n",
       "      <th>309325</th>\n",
       "      <td>564079</td>\n",
       "      <td>21928</td>\n",
       "      <td>JUMBO BAG SCANDINAVIAN BLUE PAISLEY</td>\n",
       "      <td>10</td>\n",
       "      <td>22-08-2011 15:55</td>\n",
       "      <td>2.08</td>\n",
       "      <td>12627.0</td>\n",
       "      <td>Germany</td>\n",
       "    </tr>\n",
       "    <tr>\n",
       "      <th>311846</th>\n",
       "      <td>564323</td>\n",
       "      <td>22386</td>\n",
       "      <td>JUMBO BAG PINK POLKADOT</td>\n",
       "      <td>100</td>\n",
       "      <td>24-08-2011 13:24</td>\n",
       "      <td>1.75</td>\n",
       "      <td>13694.0</td>\n",
       "      <td>United Kingdom</td>\n",
       "    </tr>\n",
       "  </tbody>\n",
       "</table>\n",
       "</div>"
      ],
      "text/plain": [
       "       InvoiceNo StockCode                          Description  Quantity  \\\n",
       "309325    564079     21928  JUMBO BAG SCANDINAVIAN BLUE PAISLEY        10   \n",
       "311846    564323     22386              JUMBO BAG PINK POLKADOT       100   \n",
       "\n",
       "             InvoiceDate  UnitPrice  CustomerID         Country  \n",
       "309325  22-08-2011 15:55       2.08     12627.0         Germany  \n",
       "311846  24-08-2011 13:24       1.75     13694.0  United Kingdom  "
      ]
     },
     "execution_count": 3,
     "metadata": {},
     "output_type": "execute_result"
    }
   ],
   "source": [
    "df.sample(2)"
   ]
  },
  {
   "cell_type": "code",
   "execution_count": 4,
   "metadata": {},
   "outputs": [
    {
     "data": {
      "text/plain": [
       "(541909, 8)"
      ]
     },
     "execution_count": 4,
     "metadata": {},
     "output_type": "execute_result"
    }
   ],
   "source": [
    "df.shape"
   ]
  },
  {
   "cell_type": "code",
   "execution_count": 5,
   "metadata": {},
   "outputs": [
    {
     "data": {
      "text/plain": [
       "InvoiceNo       object\n",
       "StockCode       object\n",
       "Description     object\n",
       "Quantity         int64\n",
       "InvoiceDate     object\n",
       "UnitPrice      float64\n",
       "CustomerID     float64\n",
       "Country         object\n",
       "dtype: object"
      ]
     },
     "execution_count": 5,
     "metadata": {},
     "output_type": "execute_result"
    }
   ],
   "source": [
    "df.dtypes"
   ]
  },
  {
   "cell_type": "markdown",
   "metadata": {},
   "source": [
    "## Data Cleaning"
   ]
  },
  {
   "cell_type": "code",
   "execution_count": 6,
   "metadata": {},
   "outputs": [
    {
     "data": {
      "text/plain": [
       "True"
      ]
     },
     "execution_count": 6,
     "metadata": {},
     "output_type": "execute_result"
    }
   ],
   "source": [
    "df.isnull().values.any()"
   ]
  },
  {
   "cell_type": "code",
   "execution_count": 7,
   "metadata": {},
   "outputs": [
    {
     "data": {
      "text/plain": [
       "InvoiceNo       0.00\n",
       "StockCode       0.00\n",
       "Description     0.27\n",
       "Quantity        0.00\n",
       "InvoiceDate     0.00\n",
       "UnitPrice       0.00\n",
       "CustomerID     24.93\n",
       "Country         0.00\n",
       "dtype: float64"
      ]
     },
     "execution_count": 7,
     "metadata": {},
     "output_type": "execute_result"
    }
   ],
   "source": [
    "df_null = round(100*(df.isnull().sum())/len(df), 2)\n",
    "df_null"
   ]
  },
  {
   "cell_type": "markdown",
   "metadata": {},
   "source": [
    "#### Removing entries with null CustomerID"
   ]
  },
  {
   "cell_type": "code",
   "execution_count": 8,
   "metadata": {},
   "outputs": [
    {
     "data": {
      "text/plain": [
       "(406829, 8)"
      ]
     },
     "execution_count": 8,
     "metadata": {},
     "output_type": "execute_result"
    }
   ],
   "source": [
    "df = df[df['CustomerID'].notna()] #df[df['CustomerID'].isna()]\n",
    "df.shape"
   ]
  },
  {
   "cell_type": "markdown",
   "metadata": {},
   "source": [
    "#### Change InvoiceDate to date dataype"
   ]
  },
  {
   "cell_type": "code",
   "execution_count": 9,
   "metadata": {},
   "outputs": [
    {
     "data": {
      "text/plain": [
       "InvoiceNo              object\n",
       "StockCode              object\n",
       "Description            object\n",
       "Quantity                int64\n",
       "InvoiceDate    datetime64[ns]\n",
       "UnitPrice             float64\n",
       "CustomerID            float64\n",
       "Country                object\n",
       "dtype: object"
      ]
     },
     "execution_count": 9,
     "metadata": {},
     "output_type": "execute_result"
    }
   ],
   "source": [
    "df['InvoiceDate'] = pd.to_datetime(df['InvoiceDate'])\n",
    "df.dtypes"
   ]
  },
  {
   "cell_type": "markdown",
   "metadata": {},
   "source": [
    "#### Check if quantity is positive value else remove"
   ]
  },
  {
   "cell_type": "code",
   "execution_count": 10,
   "metadata": {},
   "outputs": [
    {
     "data": {
      "text/html": [
       "<div>\n",
       "<style scoped>\n",
       "    .dataframe tbody tr th:only-of-type {\n",
       "        vertical-align: middle;\n",
       "    }\n",
       "\n",
       "    .dataframe tbody tr th {\n",
       "        vertical-align: top;\n",
       "    }\n",
       "\n",
       "    .dataframe thead th {\n",
       "        text-align: right;\n",
       "    }\n",
       "</style>\n",
       "<table border=\"1\" class=\"dataframe\">\n",
       "  <thead>\n",
       "    <tr style=\"text-align: right;\">\n",
       "      <th></th>\n",
       "      <th>InvoiceNo</th>\n",
       "      <th>StockCode</th>\n",
       "      <th>Description</th>\n",
       "      <th>Quantity</th>\n",
       "      <th>InvoiceDate</th>\n",
       "      <th>UnitPrice</th>\n",
       "      <th>CustomerID</th>\n",
       "      <th>Country</th>\n",
       "    </tr>\n",
       "  </thead>\n",
       "  <tbody>\n",
       "    <tr>\n",
       "      <th>225434</th>\n",
       "      <td>C556678</td>\n",
       "      <td>23064</td>\n",
       "      <td>CINDERELLA CHANDELIER</td>\n",
       "      <td>-4</td>\n",
       "      <td>2011-06-13 17:21:00</td>\n",
       "      <td>41.75</td>\n",
       "      <td>13658.0</td>\n",
       "      <td>United Kingdom</td>\n",
       "    </tr>\n",
       "    <tr>\n",
       "      <th>146991</th>\n",
       "      <td>C549041</td>\n",
       "      <td>21156</td>\n",
       "      <td>RETROSPOT CHILDRENS APRON</td>\n",
       "      <td>-8</td>\n",
       "      <td>2011-05-04 17:22:00</td>\n",
       "      <td>1.95</td>\n",
       "      <td>17644.0</td>\n",
       "      <td>United Kingdom</td>\n",
       "    </tr>\n",
       "  </tbody>\n",
       "</table>\n",
       "</div>"
      ],
      "text/plain": [
       "       InvoiceNo StockCode                Description  Quantity  \\\n",
       "225434   C556678     23064     CINDERELLA CHANDELIER         -4   \n",
       "146991   C549041     21156  RETROSPOT CHILDRENS APRON        -8   \n",
       "\n",
       "               InvoiceDate  UnitPrice  CustomerID         Country  \n",
       "225434 2011-06-13 17:21:00      41.75     13658.0  United Kingdom  \n",
       "146991 2011-05-04 17:22:00       1.95     17644.0  United Kingdom  "
      ]
     },
     "execution_count": 10,
     "metadata": {},
     "output_type": "execute_result"
    }
   ],
   "source": [
    "df[df['Quantity']<=0].sample(2)"
   ]
  },
  {
   "cell_type": "code",
   "execution_count": 11,
   "metadata": {
    "scrolled": true
   },
   "outputs": [],
   "source": [
    "df = df[df['Quantity']>0]"
   ]
  },
  {
   "cell_type": "markdown",
   "metadata": {},
   "source": [
    "#### Calculate TotalPrice from Quantity and UnitPrice"
   ]
  },
  {
   "cell_type": "code",
   "execution_count": 12,
   "metadata": {},
   "outputs": [
    {
     "data": {
      "text/html": [
       "<div>\n",
       "<style scoped>\n",
       "    .dataframe tbody tr th:only-of-type {\n",
       "        vertical-align: middle;\n",
       "    }\n",
       "\n",
       "    .dataframe tbody tr th {\n",
       "        vertical-align: top;\n",
       "    }\n",
       "\n",
       "    .dataframe thead th {\n",
       "        text-align: right;\n",
       "    }\n",
       "</style>\n",
       "<table border=\"1\" class=\"dataframe\">\n",
       "  <thead>\n",
       "    <tr style=\"text-align: right;\">\n",
       "      <th></th>\n",
       "      <th>InvoiceNo</th>\n",
       "      <th>StockCode</th>\n",
       "      <th>Description</th>\n",
       "      <th>Quantity</th>\n",
       "      <th>InvoiceDate</th>\n",
       "      <th>UnitPrice</th>\n",
       "      <th>CustomerID</th>\n",
       "      <th>Country</th>\n",
       "      <th>TotalPrice</th>\n",
       "    </tr>\n",
       "  </thead>\n",
       "  <tbody>\n",
       "    <tr>\n",
       "      <th>419992</th>\n",
       "      <td>572866</td>\n",
       "      <td>20723</td>\n",
       "      <td>STRAWBERRY CHARLOTTE BAG</td>\n",
       "      <td>3</td>\n",
       "      <td>2011-10-26 13:07:00</td>\n",
       "      <td>0.85</td>\n",
       "      <td>15005.0</td>\n",
       "      <td>United Kingdom</td>\n",
       "      <td>2.55</td>\n",
       "    </tr>\n",
       "    <tr>\n",
       "      <th>241214</th>\n",
       "      <td>558195</td>\n",
       "      <td>21213</td>\n",
       "      <td>PACK OF 72 SKULL CAKE CASES</td>\n",
       "      <td>24</td>\n",
       "      <td>2011-06-27 12:32:00</td>\n",
       "      <td>0.55</td>\n",
       "      <td>17735.0</td>\n",
       "      <td>United Kingdom</td>\n",
       "      <td>13.20</td>\n",
       "    </tr>\n",
       "  </tbody>\n",
       "</table>\n",
       "</div>"
      ],
      "text/plain": [
       "       InvoiceNo StockCode                  Description  Quantity  \\\n",
       "419992    572866     20723     STRAWBERRY CHARLOTTE BAG         3   \n",
       "241214    558195     21213  PACK OF 72 SKULL CAKE CASES        24   \n",
       "\n",
       "               InvoiceDate  UnitPrice  CustomerID         Country  TotalPrice  \n",
       "419992 2011-10-26 13:07:00       0.85     15005.0  United Kingdom        2.55  \n",
       "241214 2011-06-27 12:32:00       0.55     17735.0  United Kingdom       13.20  "
      ]
     },
     "execution_count": 12,
     "metadata": {},
     "output_type": "execute_result"
    }
   ],
   "source": [
    "df['TotalPrice'] = df['Quantity'] * df['UnitPrice']\n",
    "df.sample(2)"
   ]
  },
  {
   "cell_type": "markdown",
   "metadata": {},
   "source": [
    "## Create Recency Frequency Monetary value Table"
   ]
  },
  {
   "cell_type": "code",
   "execution_count": 13,
   "metadata": {},
   "outputs": [
    {
     "data": {
      "text/html": [
       "<div>\n",
       "<style scoped>\n",
       "    .dataframe tbody tr th:only-of-type {\n",
       "        vertical-align: middle;\n",
       "    }\n",
       "\n",
       "    .dataframe tbody tr th {\n",
       "        vertical-align: top;\n",
       "    }\n",
       "\n",
       "    .dataframe thead th {\n",
       "        text-align: right;\n",
       "    }\n",
       "</style>\n",
       "<table border=\"1\" class=\"dataframe\">\n",
       "  <thead>\n",
       "    <tr style=\"text-align: right;\">\n",
       "      <th></th>\n",
       "      <th>Recency</th>\n",
       "      <th>Frequency</th>\n",
       "      <th>Monetary</th>\n",
       "    </tr>\n",
       "    <tr>\n",
       "      <th>CustomerID</th>\n",
       "      <th></th>\n",
       "      <th></th>\n",
       "      <th></th>\n",
       "    </tr>\n",
       "  </thead>\n",
       "  <tbody>\n",
       "    <tr>\n",
       "      <th>16943.0</th>\n",
       "      <td>6</td>\n",
       "      <td>33</td>\n",
       "      <td>816.73</td>\n",
       "    </tr>\n",
       "    <tr>\n",
       "      <th>15125.0</th>\n",
       "      <td>27</td>\n",
       "      <td>127</td>\n",
       "      <td>11528.48</td>\n",
       "    </tr>\n",
       "  </tbody>\n",
       "</table>\n",
       "</div>"
      ],
      "text/plain": [
       "            Recency  Frequency  Monetary\n",
       "CustomerID                              \n",
       "16943.0           6         33    816.73\n",
       "15125.0          27        127  11528.48"
      ]
     },
     "execution_count": 13,
     "metadata": {},
     "output_type": "execute_result"
    }
   ],
   "source": [
    "import datetime\n",
    "snapshot_date = max(df['InvoiceDate']) + datetime.timedelta(days=1)\n",
    "snapshot_date\n",
    "\n",
    "#Aggregate by CustomerID\n",
    "customers = df.groupby(['CustomerID']).agg({\n",
    "    'InvoiceDate': lambda x:(snapshot_date - x.max()).days,\n",
    "    'InvoiceNo': 'count',\n",
    "    'TotalPrice': 'sum'\n",
    "})\n",
    "\n",
    "customers.rename(columns= {'InvoiceDate' : 'Recency',\n",
    "                          'InvoiceNo' : 'Frequency',\n",
    "                          'TotalPrice' : 'Monetary'}, inplace=True)\n",
    "customers.sample(2)"
   ]
  },
  {
   "cell_type": "markdown",
   "metadata": {},
   "source": [
    "## Manage Skew"
   ]
  },
  {
   "cell_type": "code",
   "execution_count": 14,
   "metadata": {},
   "outputs": [
    {
     "data": {
      "text/plain": [
       "<matplotlib.axes._subplots.AxesSubplot at 0x1a1f700f50>"
      ]
     },
     "execution_count": 14,
     "metadata": {},
     "output_type": "execute_result"
    },
    {
     "data": {
      "image/png": "[encoded data removed]",
      "text/plain": [
       "<Figure size 432x288 with 1 Axes>"
      ]
     },
     "metadata": {
      "needs_background": "light"
     },
     "output_type": "display_data"
    }
   ],
   "source": [
    "#Visualization of each variable\n",
    "sns.distplot(customers.Recency)"
   ]
  },
  {
   "cell_type": "code",
   "execution_count": 15,
   "metadata": {},
   "outputs": [
    {
     "data": {
      "text/plain": [
       "<matplotlib.axes._subplots.AxesSubplot at 0x1a23ea2050>"
      ]
     },
     "execution_count": 15,
     "metadata": {},
     "output_type": "execute_result"
    },
    {
     "data": {
      "image/png": "[encoded data removed]",
      "text/plain": [
       "<Figure size 432x288 with 1 Axes>"
      ]
     },
     "metadata": {
      "needs_background": "light"
     },
     "output_type": "display_data"
    }
   ],
   "source": [
    "sns.distplot(customers.Frequency)"
   ]
  },
  {
   "cell_type": "code",
   "execution_count": 16,
   "metadata": {},
   "outputs": [
    {
     "data": {
      "text/plain": [
       "<matplotlib.axes._subplots.AxesSubplot at 0x1a24eebcd0>"
      ]
     },
     "execution_count": 16,
     "metadata": {},
     "output_type": "execute_result"
    },
    {
     "data": {
      "image/png": "[encoded data removed]",
      "text/plain": [
       "<Figure size 432x288 with 1 Axes>"
      ]
     },
     "metadata": {
      "needs_background": "light"
     },
     "output_type": "display_data"
    }
   ],
   "source": [
    "sns.distplot(customers.Monetary)"
   ]
  },
  {
   "cell_type": "markdown",
   "metadata": {},
   "source": [
    "#### Highly skewed distribution is observed for all three variables, this can be rectified by applying one of the transformations on the data.\n",
    " - Log Transformation\n",
    " - SquareRoot Transformation\n",
    " - Cube Transformation\n",
    " - Box-Cox Transformation"
   ]
  },
  {
   "cell_type": "code",
   "execution_count": 17,
   "metadata": {},
   "outputs": [
    {
     "name": "stdout",
     "output_type": "stream",
     "text": [
      "1.9175159984488952\n",
      "18.106242903118684\n",
      "19.326985305561827\n"
     ]
    }
   ],
   "source": [
    "#Skew Values on the variables\n",
    "print(customers.Recency.skew())\n",
    "print(customers.Frequency.skew())\n",
    "print(customers.Monetary.skew())"
   ]
  },
  {
   "cell_type": "markdown",
   "metadata": {},
   "source": [
    "#### Log Transformation"
   ]
  },
  {
   "cell_type": "code",
   "execution_count": 18,
   "metadata": {},
   "outputs": [
    {
     "name": "stdout",
     "output_type": "stream",
     "text": [
      "-0.6547244680673008\n",
      "-0.22015490308024482\n",
      "nan\n"
     ]
    },
    {
     "name": "stderr",
     "output_type": "stream",
     "text": [
      "/Users/haripriya/opt/anaconda3/lib/python3.7/site-packages/pandas/core/series.py:679: RuntimeWarning: divide by zero encountered in log\n",
      "  result = getattr(ufunc, method)(*inputs, **kwargs)\n"
     ]
    },
    {
     "data": {
      "text/plain": [
       "<matplotlib.axes._subplots.AxesSubplot at 0x1a2418e610>"
      ]
     },
     "execution_count": 18,
     "metadata": {},
     "output_type": "execute_result"
    },
    {
     "data": {
      "image/png": "[encoded data removed]",
      "text/plain": [
       "<Figure size 432x288 with 1 Axes>"
      ]
     },
     "metadata": {
      "needs_background": "light"
     },
     "output_type": "display_data"
    }
   ],
   "source": [
    "recency_log = np.log(customers.Recency)\n",
    "frequency_log = np.log(customers.Frequency)\n",
    "monetary_log = np.log(customers.Monetary)\n",
    "print(recency_log.skew())\n",
    "print(frequency_log.skew())\n",
    "print(monetary_log.skew())\n",
    "sns.distplot(recency_log)"
   ]
  },
  {
   "cell_type": "markdown",
   "metadata": {},
   "source": [
    "#### Square Root Transformation"
   ]
  },
  {
   "cell_type": "code",
   "execution_count": 19,
   "metadata": {},
   "outputs": [
    {
     "name": "stdout",
     "output_type": "stream",
     "text": [
      "0.6969867632799238\n",
      "3.2228655181183483\n",
      "5.886428106945661\n"
     ]
    },
    {
     "data": {
      "text/plain": [
       "<matplotlib.axes._subplots.AxesSubplot at 0x1a2396c810>"
      ]
     },
     "execution_count": 19,
     "metadata": {},
     "output_type": "execute_result"
    },
    {
     "data": {
      "image/png": "[encoded data removed]",
      "text/plain": [
       "<Figure size 432x288 with 1 Axes>"
      ]
     },
     "metadata": {
      "needs_background": "light"
     },
     "output_type": "display_data"
    }
   ],
   "source": [
    "recency_sqrt = np.sqrt(customers.Recency)\n",
    "frequency_sqrt = np.sqrt(customers.Frequency)\n",
    "monetary_sqrt = np.sqrt(customers.Monetary)\n",
    "print(recency_sqrt.skew())\n",
    "print(frequency_sqrt.skew())\n",
    "print(monetary_sqrt.skew())\n",
    "sns.distplot(recency_sqrt)"
   ]
  },
  {
   "cell_type": "markdown",
   "metadata": {},
   "source": [
    "#### Cube Root Transformation"
   ]
  },
  {
   "cell_type": "code",
   "execution_count": 20,
   "metadata": {},
   "outputs": [
    {
     "name": "stdout",
     "output_type": "stream",
     "text": [
      "0.31240733935389847\n",
      "1.5139956026003647\n",
      "2.996715482799713\n"
     ]
    },
    {
     "data": {
      "text/plain": [
       "<matplotlib.axes._subplots.AxesSubplot at 0x1a234c07d0>"
      ]
     },
     "execution_count": 20,
     "metadata": {},
     "output_type": "execute_result"
    },
    {
     "data": {
      "image/png": "[encoded data removed]",
      "text/plain": [
       "<Figure size 432x288 with 1 Axes>"
      ]
     },
     "metadata": {
      "needs_background": "light"
     },
     "output_type": "display_data"
    }
   ],
   "source": [
    "recency_cbrt = np.cbrt(customers.Recency)\n",
    "frequency_cbrt = np.cbrt(customers.Frequency)\n",
    "monetary_cbrt = np.cbrt(customers.Monetary)\n",
    "print(recency_cbrt.skew())\n",
    "print(frequency_cbrt.skew())\n",
    "print(monetary_cbrt.skew())\n",
    "sns.distplot(recency_cbrt)"
   ]
  },
  {
   "cell_type": "code",
   "execution_count": null,
   "metadata": {},
   "outputs": [],
   "source": []
  },
  {
   "cell_type": "code",
   "execution_count": 21,
   "metadata": {},
   "outputs": [
    {
     "name": "stdout",
     "output_type": "stream",
     "text": [
      "-0.05129871179645878\n",
      "0.004197415222226033\n"
     ]
    },
    {
     "data": {
      "text/plain": [
       "<matplotlib.axes._subplots.AxesSubplot at 0x1a2051c6d0>"
      ]
     },
     "execution_count": 21,
     "metadata": {},
     "output_type": "execute_result"
    },
    {
     "data": {
      "image/png": "[encoded data removed]",
      "text/plain": [
       "<Figure size 432x288 with 1 Axes>"
      ]
     },
     "metadata": {
      "needs_background": "light"
     },
     "output_type": "display_data"
    }
   ],
   "source": [
    "from scipy import stats\n",
    "recency_boxcox = stats.boxcox(customers.Recency)[0]\n",
    "frequency_boxcox = stats.boxcox(customers.Frequency)[0]\n",
    "print(pd.Series(recency_boxcox).skew())\n",
    "print(pd.Series(frequency_boxcox).skew())\n",
    "sns.distplot(recency_boxcox)"
   ]
  },
  {
   "cell_type": "markdown",
   "metadata": {},
   "source": [
    "#### Observations:\n",
    "- Monetary value data is not positive, hence CubeRoot Transformation is used for it\n",
    "- BoxCox Transformation shows least skew(nearer to zero) for Recency and Frequency "
   ]
  },
  {
   "cell_type": "code",
   "execution_count": 22,
   "metadata": {},
   "outputs": [
    {
     "data": {
      "text/html": [
       "<div>\n",
       "<style scoped>\n",
       "    .dataframe tbody tr th:only-of-type {\n",
       "        vertical-align: middle;\n",
       "    }\n",
       "\n",
       "    .dataframe tbody tr th {\n",
       "        vertical-align: top;\n",
       "    }\n",
       "\n",
       "    .dataframe thead th {\n",
       "        text-align: right;\n",
       "    }\n",
       "</style>\n",
       "<table border=\"1\" class=\"dataframe\">\n",
       "  <thead>\n",
       "    <tr style=\"text-align: right;\">\n",
       "      <th></th>\n",
       "      <th>CustomerID</th>\n",
       "      <th>Recency</th>\n",
       "      <th>Frequency</th>\n",
       "      <th>Monetary</th>\n",
       "    </tr>\n",
       "  </thead>\n",
       "  <tbody>\n",
       "    <tr>\n",
       "      <th>0</th>\n",
       "      <td>12346.0</td>\n",
       "      <td>10.594460</td>\n",
       "      <td>0.000000</td>\n",
       "      <td>42.576995</td>\n",
       "    </tr>\n",
       "    <tr>\n",
       "      <th>1</th>\n",
       "      <td>12347.0</td>\n",
       "      <td>5.408713</td>\n",
       "      <td>5.973859</td>\n",
       "      <td>16.273929</td>\n",
       "    </tr>\n",
       "    <tr>\n",
       "      <th>2</th>\n",
       "      <td>12348.0</td>\n",
       "      <td>6.771296</td>\n",
       "      <td>3.758729</td>\n",
       "      <td>12.158183</td>\n",
       "    </tr>\n",
       "    <tr>\n",
       "      <th>3</th>\n",
       "      <td>12349.0</td>\n",
       "      <td>4.044175</td>\n",
       "      <td>4.805208</td>\n",
       "      <td>12.068017</td>\n",
       "    </tr>\n",
       "    <tr>\n",
       "      <th>4</th>\n",
       "      <td>12350.0</td>\n",
       "      <td>10.453001</td>\n",
       "      <td>3.051922</td>\n",
       "      <td>6.941001</td>\n",
       "    </tr>\n",
       "    <tr>\n",
       "      <th>...</th>\n",
       "      <td>...</td>\n",
       "      <td>...</td>\n",
       "      <td>...</td>\n",
       "      <td>...</td>\n",
       "    </tr>\n",
       "    <tr>\n",
       "      <th>4334</th>\n",
       "      <td>18280.0</td>\n",
       "      <td>8.589243</td>\n",
       "      <td>2.445694</td>\n",
       "      <td>5.652483</td>\n",
       "    </tr>\n",
       "    <tr>\n",
       "      <th>4335</th>\n",
       "      <td>18281.0</td>\n",
       "      <td>1.884613</td>\n",
       "      <td>2.047477</td>\n",
       "      <td>4.323541</td>\n",
       "    </tr>\n",
       "    <tr>\n",
       "      <th>4336</th>\n",
       "      <td>18282.0</td>\n",
       "      <td>9.400988</td>\n",
       "      <td>2.652113</td>\n",
       "      <td>5.625753</td>\n",
       "    </tr>\n",
       "    <tr>\n",
       "      <th>4337</th>\n",
       "      <td>18283.0</td>\n",
       "      <td>3.042330</td>\n",
       "      <td>7.909634</td>\n",
       "      <td>12.795376</td>\n",
       "    </tr>\n",
       "    <tr>\n",
       "      <th>4338</th>\n",
       "      <td>18287.0</td>\n",
       "      <td>0.000000</td>\n",
       "      <td>4.752844</td>\n",
       "      <td>12.247810</td>\n",
       "    </tr>\n",
       "  </tbody>\n",
       "</table>\n",
       "<p>4339 rows × 4 columns</p>\n",
       "</div>"
      ],
      "text/plain": [
       "      CustomerID    Recency  Frequency   Monetary\n",
       "0        12346.0  10.594460   0.000000  42.576995\n",
       "1        12347.0   5.408713   5.973859  16.273929\n",
       "2        12348.0   6.771296   3.758729  12.158183\n",
       "3        12349.0   4.044175   4.805208  12.068017\n",
       "4        12350.0  10.453001   3.051922   6.941001\n",
       "...          ...        ...        ...        ...\n",
       "4334     18280.0   8.589243   2.445694   5.652483\n",
       "4335     18281.0   1.884613   2.047477   4.323541\n",
       "4336     18282.0   9.400988   2.652113   5.625753\n",
       "4337     18283.0   3.042330   7.909634  12.795376\n",
       "4338     18287.0   0.000000   4.752844  12.247810\n",
       "\n",
       "[4339 rows x 4 columns]"
      ]
     },
     "execution_count": 22,
     "metadata": {},
     "output_type": "execute_result"
    }
   ],
   "source": [
    "customers_fix = pd.DataFrame()\n",
    "customers_fix['CustomerID'] = customers.index\n",
    "customers_fix['Recency'] = stats.boxcox(customers.Recency)[0]\n",
    "customers_fix['Frequency'] = stats.boxcox(customers.Frequency)[0]\n",
    "customers_fix['Monetary'] = pd.Series(np.cbrt(customers['Monetary'])).values\n",
    "customers_fix"
   ]
  },
  {
   "cell_type": "markdown",
   "metadata": {},
   "source": [
    "## Standardize the data"
   ]
  },
  {
   "cell_type": "markdown",
   "metadata": {},
   "source": [
    "from sklearn.preprocessing import StandardScaler\n",
    "scaler = StandardScaler()\n",
    "scaler.fit(customers_fix)\n",
    "customers_normalised = scaler.transform(customers_fix)\n",
    "customers_normalised"
   ]
  },
  {
   "cell_type": "markdown",
   "metadata": {},
   "source": [
    "customers_normalised = pd.DataFrame()\n",
    "from sklearn.preprocessing import StandardScaler\n",
    "scaler = StandardScaler()\n",
    "scaler.fit(customers_fix['Recency'])\n",
    "customers_normalised['Recency'] = scaler.transform(customers_fix['Recency'])\n",
    "customers_normalised"
   ]
  },
  {
   "cell_type": "code",
   "execution_count": 23,
   "metadata": {},
   "outputs": [
    {
     "data": {
      "text/html": [
       "<div>\n",
       "<style scoped>\n",
       "    .dataframe tbody tr th:only-of-type {\n",
       "        vertical-align: middle;\n",
       "    }\n",
       "\n",
       "    .dataframe tbody tr th {\n",
       "        vertical-align: top;\n",
       "    }\n",
       "\n",
       "    .dataframe thead th {\n",
       "        text-align: right;\n",
       "    }\n",
       "</style>\n",
       "<table border=\"1\" class=\"dataframe\">\n",
       "  <thead>\n",
       "    <tr style=\"text-align: right;\">\n",
       "      <th></th>\n",
       "      <th>CustomerID</th>\n",
       "      <th>Recency</th>\n",
       "      <th>Frequency</th>\n",
       "      <th>Monetary</th>\n",
       "    </tr>\n",
       "  </thead>\n",
       "  <tbody>\n",
       "    <tr>\n",
       "      <th>0</th>\n",
       "      <td>12346.0</td>\n",
       "      <td>1.543469</td>\n",
       "      <td>-2.568435</td>\n",
       "      <td>6.608337</td>\n",
       "    </tr>\n",
       "    <tr>\n",
       "      <th>1</th>\n",
       "      <td>12347.0</td>\n",
       "      <td>-0.343482</td>\n",
       "      <td>1.166124</td>\n",
       "      <td>1.291771</td>\n",
       "    </tr>\n",
       "    <tr>\n",
       "      <th>2</th>\n",
       "      <td>12348.0</td>\n",
       "      <td>0.152324</td>\n",
       "      <td>-0.218665</td>\n",
       "      <td>0.459867</td>\n",
       "    </tr>\n",
       "    <tr>\n",
       "      <th>3</th>\n",
       "      <td>12349.0</td>\n",
       "      <td>-0.840000</td>\n",
       "      <td>0.435542</td>\n",
       "      <td>0.441642</td>\n",
       "    </tr>\n",
       "    <tr>\n",
       "      <th>4</th>\n",
       "      <td>12350.0</td>\n",
       "      <td>1.491995</td>\n",
       "      <td>-0.660525</td>\n",
       "      <td>-0.594668</td>\n",
       "    </tr>\n",
       "    <tr>\n",
       "      <th>...</th>\n",
       "      <td>...</td>\n",
       "      <td>...</td>\n",
       "      <td>...</td>\n",
       "      <td>...</td>\n",
       "    </tr>\n",
       "    <tr>\n",
       "      <th>4334</th>\n",
       "      <td>18280.0</td>\n",
       "      <td>0.813825</td>\n",
       "      <td>-1.039509</td>\n",
       "      <td>-0.855112</td>\n",
       "    </tr>\n",
       "    <tr>\n",
       "      <th>4335</th>\n",
       "      <td>18281.0</td>\n",
       "      <td>-1.625805</td>\n",
       "      <td>-1.288454</td>\n",
       "      <td>-1.123727</td>\n",
       "    </tr>\n",
       "    <tr>\n",
       "      <th>4336</th>\n",
       "      <td>18282.0</td>\n",
       "      <td>1.109197</td>\n",
       "      <td>-0.910466</td>\n",
       "      <td>-0.860515</td>\n",
       "    </tr>\n",
       "    <tr>\n",
       "      <th>4337</th>\n",
       "      <td>18283.0</td>\n",
       "      <td>-1.204544</td>\n",
       "      <td>2.376274</td>\n",
       "      <td>0.588661</td>\n",
       "    </tr>\n",
       "    <tr>\n",
       "      <th>4338</th>\n",
       "      <td>18287.0</td>\n",
       "      <td>-2.311564</td>\n",
       "      <td>0.402807</td>\n",
       "      <td>0.477983</td>\n",
       "    </tr>\n",
       "  </tbody>\n",
       "</table>\n",
       "<p>4339 rows × 4 columns</p>\n",
       "</div>"
      ],
      "text/plain": [
       "      CustomerID   Recency  Frequency  Monetary\n",
       "0        12346.0  1.543469  -2.568435  6.608337\n",
       "1        12347.0 -0.343482   1.166124  1.291771\n",
       "2        12348.0  0.152324  -0.218665  0.459867\n",
       "3        12349.0 -0.840000   0.435542  0.441642\n",
       "4        12350.0  1.491995  -0.660525 -0.594668\n",
       "...          ...       ...        ...       ...\n",
       "4334     18280.0  0.813825  -1.039509 -0.855112\n",
       "4335     18281.0 -1.625805  -1.288454 -1.123727\n",
       "4336     18282.0  1.109197  -0.910466 -0.860515\n",
       "4337     18283.0 -1.204544   2.376274  0.588661\n",
       "4338     18287.0 -2.311564   0.402807  0.477983\n",
       "\n",
       "[4339 rows x 4 columns]"
      ]
     },
     "execution_count": 23,
     "metadata": {},
     "output_type": "execute_result"
    }
   ],
   "source": [
    "from sklearn import preprocessing\n",
    "customers_scaled = pd.DataFrame()\n",
    "customers_scaled['CustomerID'] = customers_fix['CustomerID']\n",
    "customers_scaled['Recency'] = preprocessing.scale(customers_fix['Recency'])\n",
    "customers_scaled['Frequency'] = preprocessing.scale(customers_fix['Frequency'])\n",
    "customers_scaled['Monetary'] = preprocessing.scale(customers_fix['Monetary'])\n",
    "customers_scaled"
   ]
  },
  {
   "cell_type": "markdown",
   "metadata": {},
   "source": [
    "---"
   ]
  },
  {
   "cell_type": "markdown",
   "metadata": {},
   "source": [
    "# CLUSTERING - K means"
   ]
  },
  {
   "cell_type": "markdown",
   "metadata": {},
   "source": [
    "---"
   ]
  },
  {
   "cell_type": "markdown",
   "metadata": {},
   "source": [
    "## Recency"
   ]
  },
  {
   "cell_type": "markdown",
   "metadata": {},
   "source": [
    "#### Elbow Method"
   ]
  },
  {
   "cell_type": "code",
   "execution_count": 24,
   "metadata": {},
   "outputs": [
    {
     "data": {
      "image/png": "[encoded data removed]",
      "text/plain": [
       "<Figure size 432x288 with 1 Axes>"
      ]
     },
     "metadata": {
      "needs_background": "light"
     },
     "output_type": "display_data"
    }
   ],
   "source": [
    "from sklearn import cluster\n",
    "sse={}\n",
    "\n",
    "df_recency = customers_scaled[['Recency']].values\n",
    "\n",
    "for k in range(2,10):\n",
    "    model = cluster.KMeans(n_clusters=k, random_state=3)\n",
    "    model.fit_predict(df_recency)\n",
    "    sse[k] = model.inertia_\n",
    "    \n",
    "plt.plot(list(sse.keys()), list(sse.values()))\n",
    "plt.xlabel('Number of Clusters')\n",
    "plt.ylabel('SSE')\n",
    "plt.show()\n"
   ]
  },
  {
   "cell_type": "markdown",
   "metadata": {},
   "source": [
    "#### Silhouette Score"
   ]
  },
  {
   "cell_type": "code",
   "execution_count": 25,
   "metadata": {},
   "outputs": [
    {
     "name": "stdout",
     "output_type": "stream",
     "text": [
      "Silhouettescore for 3 Clusters: 0.5664\n",
      "Silhouettescore for 4 Clusters: 0.5786\n",
      "Silhouettescore for 5 Clusters: 0.5684\n",
      "Silhouettescore for 6 Clusters: 0.5418\n"
     ]
    }
   ],
   "source": [
    "from sklearn.metrics import silhouette_score\n",
    "\n",
    "for k in [3,4,5,6]:\n",
    "    kmeans = cluster.KMeans(n_clusters=k).fit(df_recency)\n",
    "    silhouette_avg = silhouette_score(df_recency, kmeans.labels_)\n",
    "    print('Silhouettescore for %i Clusters: %0.4f' %(k, silhouette_avg))"
   ]
  },
  {
   "cell_type": "markdown",
   "metadata": {},
   "source": [
    "- 4 clusters has the highest silhouette score so we will choose 4 clusters"
   ]
  },
  {
   "cell_type": "markdown",
   "metadata": {},
   "source": [
    "#### Assigning Recency Clusters"
   ]
  },
  {
   "cell_type": "code",
   "execution_count": 26,
   "metadata": {},
   "outputs": [
    {
     "data": {
      "text/html": [
       "<div>\n",
       "<style scoped>\n",
       "    .dataframe tbody tr th:only-of-type {\n",
       "        vertical-align: middle;\n",
       "    }\n",
       "\n",
       "    .dataframe tbody tr th {\n",
       "        vertical-align: top;\n",
       "    }\n",
       "\n",
       "    .dataframe thead th {\n",
       "        text-align: right;\n",
       "    }\n",
       "</style>\n",
       "<table border=\"1\" class=\"dataframe\">\n",
       "  <thead>\n",
       "    <tr style=\"text-align: right;\">\n",
       "      <th></th>\n",
       "      <th>CustomerID</th>\n",
       "      <th>Recency</th>\n",
       "      <th>Frequency</th>\n",
       "      <th>Monetary</th>\n",
       "      <th>RecencyCluster</th>\n",
       "    </tr>\n",
       "  </thead>\n",
       "  <tbody>\n",
       "    <tr>\n",
       "      <th>0</th>\n",
       "      <td>12346.0</td>\n",
       "      <td>1.543469</td>\n",
       "      <td>-2.568435</td>\n",
       "      <td>6.608337</td>\n",
       "      <td>1</td>\n",
       "    </tr>\n",
       "    <tr>\n",
       "      <th>1</th>\n",
       "      <td>12347.0</td>\n",
       "      <td>-0.343482</td>\n",
       "      <td>1.166124</td>\n",
       "      <td>1.291771</td>\n",
       "      <td>2</td>\n",
       "    </tr>\n",
       "    <tr>\n",
       "      <th>2</th>\n",
       "      <td>12348.0</td>\n",
       "      <td>0.152324</td>\n",
       "      <td>-0.218665</td>\n",
       "      <td>0.459867</td>\n",
       "      <td>0</td>\n",
       "    </tr>\n",
       "    <tr>\n",
       "      <th>3</th>\n",
       "      <td>12349.0</td>\n",
       "      <td>-0.840000</td>\n",
       "      <td>0.435542</td>\n",
       "      <td>0.441642</td>\n",
       "      <td>2</td>\n",
       "    </tr>\n",
       "    <tr>\n",
       "      <th>4</th>\n",
       "      <td>12350.0</td>\n",
       "      <td>1.491995</td>\n",
       "      <td>-0.660525</td>\n",
       "      <td>-0.594668</td>\n",
       "      <td>1</td>\n",
       "    </tr>\n",
       "  </tbody>\n",
       "</table>\n",
       "</div>"
      ],
      "text/plain": [
       "   CustomerID   Recency  Frequency  Monetary  RecencyCluster\n",
       "0     12346.0  1.543469  -2.568435  6.608337               1\n",
       "1     12347.0 -0.343482   1.166124  1.291771               2\n",
       "2     12348.0  0.152324  -0.218665  0.459867               0\n",
       "3     12349.0 -0.840000   0.435542  0.441642               2\n",
       "4     12350.0  1.491995  -0.660525 -0.594668               1"
      ]
     },
     "execution_count": 26,
     "metadata": {},
     "output_type": "execute_result"
    }
   ],
   "source": [
    "kmeans = cluster.KMeans(n_clusters=4).fit(customers_scaled[['Recency']].values)\n",
    "customers_scaled['RecencyCluster'] = kmeans.labels_\n",
    "customers_scaled.head(5)"
   ]
  },
  {
   "cell_type": "markdown",
   "metadata": {},
   "source": [
    "#### View the Clusters"
   ]
  },
  {
   "cell_type": "code",
   "execution_count": 27,
   "metadata": {},
   "outputs": [
    {
     "data": {
      "text/html": [
       "<div>\n",
       "<style scoped>\n",
       "    .dataframe tbody tr th:only-of-type {\n",
       "        vertical-align: middle;\n",
       "    }\n",
       "\n",
       "    .dataframe tbody tr th {\n",
       "        vertical-align: top;\n",
       "    }\n",
       "\n",
       "    .dataframe thead th {\n",
       "        text-align: right;\n",
       "    }\n",
       "</style>\n",
       "<table border=\"1\" class=\"dataframe\">\n",
       "  <thead>\n",
       "    <tr style=\"text-align: right;\">\n",
       "      <th></th>\n",
       "      <th>Recency</th>\n",
       "    </tr>\n",
       "    <tr>\n",
       "      <th>RecencyCluster</th>\n",
       "      <th></th>\n",
       "    </tr>\n",
       "  </thead>\n",
       "  <tbody>\n",
       "    <tr>\n",
       "      <th>3</th>\n",
       "      <td>-1.845379</td>\n",
       "    </tr>\n",
       "    <tr>\n",
       "      <th>2</th>\n",
       "      <td>-0.795772</td>\n",
       "    </tr>\n",
       "    <tr>\n",
       "      <th>0</th>\n",
       "      <td>0.158892</td>\n",
       "    </tr>\n",
       "    <tr>\n",
       "      <th>1</th>\n",
       "      <td>1.223272</td>\n",
       "    </tr>\n",
       "  </tbody>\n",
       "</table>\n",
       "</div>"
      ],
      "text/plain": [
       "                 Recency\n",
       "RecencyCluster          \n",
       "3              -1.845379\n",
       "2              -0.795772\n",
       "0               0.158892\n",
       "1               1.223272"
      ]
     },
     "execution_count": 27,
     "metadata": {},
     "output_type": "execute_result"
    }
   ],
   "source": [
    "customers_scaled.groupby('RecencyCluster').agg({'Recency':'mean'}).sort_values(by='Recency')"
   ]
  },
  {
   "cell_type": "markdown",
   "metadata": {},
   "source": [
    "#### Order the clusters\n",
    "\n",
    "The cluster numbers are not ordered in any manner, therefore a function order_cluster() can be used to arrange the cluster numbers. Starting from 0 with the least desirable values upto the higher limit which is desirable"
   ]
  },
  {
   "cell_type": "code",
   "execution_count": 28,
   "metadata": {},
   "outputs": [],
   "source": [
    "def order_cluster(cluster_num_field, target_field, df, ascend=True):\n",
    "    k=0\n",
    "    sorted_order = df.groupby(cluster_num_field).agg({target_field:'mean'}).sort_values(by=target_field,ascending=ascend )\n",
    "    rename_cluster={}\n",
    "    for cluster in sorted_order.index:\n",
    "        rename_cluster[cluster]=k\n",
    "        k=k+1\n",
    "    df.replace({cluster_num_field : rename_cluster}, inplace=True)\n",
    "    print(df.groupby(cluster_num_field).agg({target_field:'mean'}).sort_values(by=target_field))\n"
   ]
  },
  {
   "cell_type": "code",
   "execution_count": 29,
   "metadata": {},
   "outputs": [
    {
     "name": "stdout",
     "output_type": "stream",
     "text": [
      "                 Recency\n",
      "RecencyCluster          \n",
      "3              -1.845379\n",
      "2              -0.795772\n",
      "1               0.158892\n",
      "0               1.223272\n"
     ]
    }
   ],
   "source": [
    "    order_cluster('RecencyCluster', 'Recency', customers_scaled, False )"
   ]
  },
  {
   "cell_type": "markdown",
   "metadata": {},
   "source": [
    "A lower recency value is desirable, pertaining to the lower number of days since the customer's visit to the store. And in terms of the cluster numbers, a higher cluster number is desirable, hence the ordering for Recency will be lower Recency value for a higher cluster number\n",
    "\n",
    "0-least Recency to 3- Higher Recency"
   ]
  },
  {
   "cell_type": "markdown",
   "metadata": {},
   "source": [
    "---"
   ]
  },
  {
   "cell_type": "markdown",
   "metadata": {},
   "source": [
    "## Frequency"
   ]
  },
  {
   "cell_type": "markdown",
   "metadata": {},
   "source": [
    "#### Elbow Method"
   ]
  },
  {
   "cell_type": "code",
   "execution_count": 30,
   "metadata": {},
   "outputs": [
    {
     "data": {
      "image/png": "[encoded data removed]",
      "text/plain": [
       "<Figure size 432x288 with 1 Axes>"
      ]
     },
     "metadata": {
      "needs_background": "light"
     },
     "output_type": "display_data"
    }
   ],
   "source": [
    "sse={}\n",
    "df_frequency = customers_scaled[['Frequency']].values\n",
    "for k in range(1,8):\n",
    "    freq_model = cluster.KMeans(n_clusters=k, random_state=3)\n",
    "    freq_model.fit_predict(df_frequency)\n",
    "    sse[k] = freq_model.inertia_\n",
    "    \n",
    "plt.plot(list(sse.keys()),list(sse.values()))\n",
    "plt.xlabel('Number of Clusters')\n",
    "plt.ylabel('SSE')\n",
    "plt.show()"
   ]
  },
  {
   "cell_type": "markdown",
   "metadata": {},
   "source": [
    "#### Silhouette Score"
   ]
  },
  {
   "cell_type": "code",
   "execution_count": 31,
   "metadata": {},
   "outputs": [
    {
     "name": "stdout",
     "output_type": "stream",
     "text": [
      "Silhouette score for 3 Clusters: 0.524631364\n",
      "Silhouette score for 4 Clusters: 0.522171882\n",
      "Silhouette score for 5 Clusters: 0.525942294\n"
     ]
    }
   ],
   "source": [
    "for k in [3,4,5]:\n",
    "    freq_kmeans= cluster.KMeans(n_clusters = k).fit(df_frequency)\n",
    "    freq_silhouette_avg = silhouette_score(df_frequency, freq_kmeans.labels_)\n",
    "    print('Silhouette score for %i Clusters: %0.9f' %(k,freq_silhouette_avg))"
   ]
  },
  {
   "cell_type": "markdown",
   "metadata": {},
   "source": [
    "- 3 clusters has the highest silhouette score, so we woll chose 3 clusters"
   ]
  },
  {
   "cell_type": "markdown",
   "metadata": {},
   "source": [
    "#### Assigning Clusters"
   ]
  },
  {
   "cell_type": "code",
   "execution_count": 32,
   "metadata": {},
   "outputs": [
    {
     "data": {
      "text/html": [
       "<div>\n",
       "<style scoped>\n",
       "    .dataframe tbody tr th:only-of-type {\n",
       "        vertical-align: middle;\n",
       "    }\n",
       "\n",
       "    .dataframe tbody tr th {\n",
       "        vertical-align: top;\n",
       "    }\n",
       "\n",
       "    .dataframe thead th {\n",
       "        text-align: right;\n",
       "    }\n",
       "</style>\n",
       "<table border=\"1\" class=\"dataframe\">\n",
       "  <thead>\n",
       "    <tr style=\"text-align: right;\">\n",
       "      <th></th>\n",
       "      <th>CustomerID</th>\n",
       "      <th>Recency</th>\n",
       "      <th>Frequency</th>\n",
       "      <th>Monetary</th>\n",
       "      <th>RecencyCluster</th>\n",
       "      <th>FrequencyCluster</th>\n",
       "    </tr>\n",
       "  </thead>\n",
       "  <tbody>\n",
       "    <tr>\n",
       "      <th>1170</th>\n",
       "      <td>13931.0</td>\n",
       "      <td>1.104496</td>\n",
       "      <td>0.256983</td>\n",
       "      <td>0.172452</td>\n",
       "      <td>0</td>\n",
       "      <td>0</td>\n",
       "    </tr>\n",
       "    <tr>\n",
       "      <th>1680</th>\n",
       "      <td>14633.0</td>\n",
       "      <td>1.328494</td>\n",
       "      <td>-0.542350</td>\n",
       "      <td>-0.580135</td>\n",
       "      <td>0</td>\n",
       "      <td>0</td>\n",
       "    </tr>\n",
       "    <tr>\n",
       "      <th>452</th>\n",
       "      <td>12930.0</td>\n",
       "      <td>0.184358</td>\n",
       "      <td>-0.378460</td>\n",
       "      <td>-0.488990</td>\n",
       "      <td>1</td>\n",
       "      <td>0</td>\n",
       "    </tr>\n",
       "    <tr>\n",
       "      <th>3240</th>\n",
       "      <td>16764.0</td>\n",
       "      <td>-1.204544</td>\n",
       "      <td>2.316059</td>\n",
       "      <td>0.851015</td>\n",
       "      <td>2</td>\n",
       "      <td>2</td>\n",
       "    </tr>\n",
       "    <tr>\n",
       "      <th>1453</th>\n",
       "      <td>14327.0</td>\n",
       "      <td>0.837478</td>\n",
       "      <td>-0.910466</td>\n",
       "      <td>-0.627233</td>\n",
       "      <td>0</td>\n",
       "      <td>1</td>\n",
       "    </tr>\n",
       "  </tbody>\n",
       "</table>\n",
       "</div>"
      ],
      "text/plain": [
       "      CustomerID   Recency  Frequency  Monetary  RecencyCluster  \\\n",
       "1170     13931.0  1.104496   0.256983  0.172452               0   \n",
       "1680     14633.0  1.328494  -0.542350 -0.580135               0   \n",
       "452      12930.0  0.184358  -0.378460 -0.488990               1   \n",
       "3240     16764.0 -1.204544   2.316059  0.851015               2   \n",
       "1453     14327.0  0.837478  -0.910466 -0.627233               0   \n",
       "\n",
       "      FrequencyCluster  \n",
       "1170                 0  \n",
       "1680                 0  \n",
       "452                  0  \n",
       "3240                 2  \n",
       "1453                 1  "
      ]
     },
     "execution_count": 32,
     "metadata": {},
     "output_type": "execute_result"
    }
   ],
   "source": [
    "freq_kmeans = cluster.KMeans(n_clusters=3).fit(customers_scaled[['Frequency']].values)\n",
    "customers_scaled['FrequencyCluster'] = freq_kmeans.labels_\n",
    "customers_scaled.sample(5)"
   ]
  },
  {
   "cell_type": "markdown",
   "metadata": {},
   "source": [
    "#### View the Clusters"
   ]
  },
  {
   "cell_type": "code",
   "execution_count": 33,
   "metadata": {},
   "outputs": [
    {
     "data": {
      "text/html": [
       "<div>\n",
       "<style scoped>\n",
       "    .dataframe tbody tr th:only-of-type {\n",
       "        vertical-align: middle;\n",
       "    }\n",
       "\n",
       "    .dataframe tbody tr th {\n",
       "        vertical-align: top;\n",
       "    }\n",
       "\n",
       "    .dataframe thead th {\n",
       "        text-align: right;\n",
       "    }\n",
       "</style>\n",
       "<table border=\"1\" class=\"dataframe\">\n",
       "  <thead>\n",
       "    <tr style=\"text-align: right;\">\n",
       "      <th></th>\n",
       "      <th>Frequency</th>\n",
       "    </tr>\n",
       "    <tr>\n",
       "      <th>FrequencyCluster</th>\n",
       "      <th></th>\n",
       "    </tr>\n",
       "  </thead>\n",
       "  <tbody>\n",
       "    <tr>\n",
       "      <th>1</th>\n",
       "      <td>-1.283900</td>\n",
       "    </tr>\n",
       "    <tr>\n",
       "      <th>0</th>\n",
       "      <td>-0.070145</td>\n",
       "    </tr>\n",
       "    <tr>\n",
       "      <th>2</th>\n",
       "      <td>1.160371</td>\n",
       "    </tr>\n",
       "  </tbody>\n",
       "</table>\n",
       "</div>"
      ],
      "text/plain": [
       "                  Frequency\n",
       "FrequencyCluster           \n",
       "1                 -1.283900\n",
       "0                 -0.070145\n",
       "2                  1.160371"
      ]
     },
     "execution_count": 33,
     "metadata": {},
     "output_type": "execute_result"
    }
   ],
   "source": [
    "customers_scaled.groupby(['FrequencyCluster']).agg({'Frequency' : 'mean'}).sort_values(by='Frequency')"
   ]
  },
  {
   "cell_type": "markdown",
   "metadata": {},
   "source": [
    "#### Order the Clusters"
   ]
  },
  {
   "cell_type": "code",
   "execution_count": 34,
   "metadata": {},
   "outputs": [
    {
     "name": "stdout",
     "output_type": "stream",
     "text": [
      "                  Frequency\n",
      "FrequencyCluster           \n",
      "0                 -1.283900\n",
      "1                 -0.070145\n",
      "2                  1.160371\n"
     ]
    }
   ],
   "source": [
    "order_cluster('FrequencyCluster', 'Frequency', customers_scaled )"
   ]
  },
  {
   "cell_type": "markdown",
   "metadata": {},
   "source": [
    "Frequency cluster numbers are assigned by choosing a higher frequency for the desired higher cluster number. 0-least frequent to 2-very frequent"
   ]
  },
  {
   "cell_type": "markdown",
   "metadata": {},
   "source": [
    "---"
   ]
  },
  {
   "cell_type": "markdown",
   "metadata": {},
   "source": [
    "## Monetary"
   ]
  },
  {
   "cell_type": "markdown",
   "metadata": {},
   "source": [
    "#### Elbow Method"
   ]
  },
  {
   "cell_type": "code",
   "execution_count": 35,
   "metadata": {},
   "outputs": [
    {
     "data": {
      "image/png": "[encoded data removed]",
      "text/plain": [
       "<Figure size 432x288 with 1 Axes>"
      ]
     },
     "metadata": {
      "needs_background": "light"
     },
     "output_type": "display_data"
    }
   ],
   "source": [
    "sse={}\n",
    "df_monetary = customers_scaled[['Monetary']].values\n",
    "for k in range(1,10):\n",
    "    mone_model = cluster.KMeans(n_clusters=k, random_state=3)\n",
    "    mone_model.fit_predict(df_monetary)\n",
    "    sse[k] = mone_model.inertia_\n",
    "    \n",
    "plt.plot(list(sse.keys()),list(sse.values()))\n",
    "plt.xlabel('Number of Clusters')\n",
    "plt.ylabel('SSE')\n",
    "plt.show()"
   ]
  },
  {
   "cell_type": "markdown",
   "metadata": {},
   "source": [
    "#### Silhouette Score"
   ]
  },
  {
   "cell_type": "code",
   "execution_count": 36,
   "metadata": {},
   "outputs": [
    {
     "name": "stdout",
     "output_type": "stream",
     "text": [
      "Silhouette Score for 3 Clusters: 0.6101\n",
      "Silhouette Score for 4 Clusters: 0.5665\n",
      "Silhouette Score for 5 Clusters: 0.5512\n"
     ]
    }
   ],
   "source": [
    "for k in [3,4,5]:\n",
    "    mone_kmeans = cluster.KMeans(n_clusters=k).fit(df_monetary)\n",
    "    mone_silhouette_avg = silhouette_score(df_monetary, mone_kmeans.labels_)\n",
    "    print('Silhouette Score for %i Clusters: %0.4f' %(k,mone_silhouette_avg))"
   ]
  },
  {
   "cell_type": "markdown",
   "metadata": {},
   "source": [
    "- 3 clusters has the highest silhouette score, so we woll chose 3 clusters"
   ]
  },
  {
   "cell_type": "markdown",
   "metadata": {},
   "source": [
    "#### Assigning Clusters"
   ]
  },
  {
   "cell_type": "code",
   "execution_count": 37,
   "metadata": {},
   "outputs": [
    {
     "data": {
      "text/html": [
       "<div>\n",
       "<style scoped>\n",
       "    .dataframe tbody tr th:only-of-type {\n",
       "        vertical-align: middle;\n",
       "    }\n",
       "\n",
       "    .dataframe tbody tr th {\n",
       "        vertical-align: top;\n",
       "    }\n",
       "\n",
       "    .dataframe thead th {\n",
       "        text-align: right;\n",
       "    }\n",
       "</style>\n",
       "<table border=\"1\" class=\"dataframe\">\n",
       "  <thead>\n",
       "    <tr style=\"text-align: right;\">\n",
       "      <th></th>\n",
       "      <th>CustomerID</th>\n",
       "      <th>Recency</th>\n",
       "      <th>Frequency</th>\n",
       "      <th>Monetary</th>\n",
       "      <th>RecencyCluster</th>\n",
       "      <th>FrequencyCluster</th>\n",
       "      <th>MonetaryCluster</th>\n",
       "    </tr>\n",
       "  </thead>\n",
       "  <tbody>\n",
       "    <tr>\n",
       "      <th>0</th>\n",
       "      <td>12346.0</td>\n",
       "      <td>1.543469</td>\n",
       "      <td>-2.568435</td>\n",
       "      <td>6.608337</td>\n",
       "      <td>0</td>\n",
       "      <td>0</td>\n",
       "      <td>1</td>\n",
       "    </tr>\n",
       "    <tr>\n",
       "      <th>1</th>\n",
       "      <td>12347.0</td>\n",
       "      <td>-0.343482</td>\n",
       "      <td>1.166124</td>\n",
       "      <td>1.291771</td>\n",
       "      <td>2</td>\n",
       "      <td>2</td>\n",
       "      <td>2</td>\n",
       "    </tr>\n",
       "    <tr>\n",
       "      <th>2</th>\n",
       "      <td>12348.0</td>\n",
       "      <td>0.152324</td>\n",
       "      <td>-0.218665</td>\n",
       "      <td>0.459867</td>\n",
       "      <td>1</td>\n",
       "      <td>1</td>\n",
       "      <td>2</td>\n",
       "    </tr>\n",
       "    <tr>\n",
       "      <th>3</th>\n",
       "      <td>12349.0</td>\n",
       "      <td>-0.840000</td>\n",
       "      <td>0.435542</td>\n",
       "      <td>0.441642</td>\n",
       "      <td>2</td>\n",
       "      <td>1</td>\n",
       "      <td>2</td>\n",
       "    </tr>\n",
       "    <tr>\n",
       "      <th>4</th>\n",
       "      <td>12350.0</td>\n",
       "      <td>1.491995</td>\n",
       "      <td>-0.660525</td>\n",
       "      <td>-0.594668</td>\n",
       "      <td>0</td>\n",
       "      <td>1</td>\n",
       "      <td>0</td>\n",
       "    </tr>\n",
       "  </tbody>\n",
       "</table>\n",
       "</div>"
      ],
      "text/plain": [
       "   CustomerID   Recency  Frequency  Monetary  RecencyCluster  \\\n",
       "0     12346.0  1.543469  -2.568435  6.608337               0   \n",
       "1     12347.0 -0.343482   1.166124  1.291771               2   \n",
       "2     12348.0  0.152324  -0.218665  0.459867               1   \n",
       "3     12349.0 -0.840000   0.435542  0.441642               2   \n",
       "4     12350.0  1.491995  -0.660525 -0.594668               0   \n",
       "\n",
       "   FrequencyCluster  MonetaryCluster  \n",
       "0                 0                1  \n",
       "1                 2                2  \n",
       "2                 1                2  \n",
       "3                 1                2  \n",
       "4                 1                0  "
      ]
     },
     "execution_count": 37,
     "metadata": {},
     "output_type": "execute_result"
    }
   ],
   "source": [
    "mone_kmeans = cluster.KMeans(n_clusters=3).fit(customers_scaled[['Monetary']].values)\n",
    "customers_scaled['MonetaryCluster'] = mone_kmeans.labels_\n",
    "customers_scaled.head(5)"
   ]
  },
  {
   "cell_type": "markdown",
   "metadata": {},
   "source": [
    "#### View the Clusters"
   ]
  },
  {
   "cell_type": "code",
   "execution_count": 38,
   "metadata": {},
   "outputs": [
    {
     "data": {
      "text/html": [
       "<div>\n",
       "<style scoped>\n",
       "    .dataframe tbody tr th:only-of-type {\n",
       "        vertical-align: middle;\n",
       "    }\n",
       "\n",
       "    .dataframe tbody tr th {\n",
       "        vertical-align: top;\n",
       "    }\n",
       "\n",
       "    .dataframe thead th {\n",
       "        text-align: right;\n",
       "    }\n",
       "</style>\n",
       "<table border=\"1\" class=\"dataframe\">\n",
       "  <thead>\n",
       "    <tr style=\"text-align: right;\">\n",
       "      <th></th>\n",
       "      <th>Monetary</th>\n",
       "    </tr>\n",
       "    <tr>\n",
       "      <th>MonetaryCluster</th>\n",
       "      <th></th>\n",
       "    </tr>\n",
       "  </thead>\n",
       "  <tbody>\n",
       "    <tr>\n",
       "      <th>0</th>\n",
       "      <td>-0.494086</td>\n",
       "    </tr>\n",
       "    <tr>\n",
       "      <th>2</th>\n",
       "      <td>0.883160</td>\n",
       "    </tr>\n",
       "    <tr>\n",
       "      <th>1</th>\n",
       "      <td>4.875262</td>\n",
       "    </tr>\n",
       "  </tbody>\n",
       "</table>\n",
       "</div>"
      ],
      "text/plain": [
       "                 Monetary\n",
       "MonetaryCluster          \n",
       "0               -0.494086\n",
       "2                0.883160\n",
       "1                4.875262"
      ]
     },
     "execution_count": 38,
     "metadata": {},
     "output_type": "execute_result"
    }
   ],
   "source": [
    "customers_scaled.groupby(['MonetaryCluster']).agg({'Monetary':'mean'}).sort_values(by='Monetary')"
   ]
  },
  {
   "cell_type": "markdown",
   "metadata": {},
   "source": [
    "#### Order the Clusters"
   ]
  },
  {
   "cell_type": "code",
   "execution_count": 39,
   "metadata": {},
   "outputs": [
    {
     "name": "stdout",
     "output_type": "stream",
     "text": [
      "                 Monetary\n",
      "MonetaryCluster          \n",
      "0               -0.494086\n",
      "1                0.883160\n",
      "2                4.875262\n"
     ]
    }
   ],
   "source": [
    "order_cluster('MonetaryCluster', 'Monetary', customers_scaled )"
   ]
  },
  {
   "cell_type": "markdown",
   "metadata": {},
   "source": [
    "0- Lower monetary value to 2-Higher monetary value"
   ]
  },
  {
   "cell_type": "markdown",
   "metadata": {},
   "source": [
    "---"
   ]
  },
  {
   "cell_type": "markdown",
   "metadata": {},
   "source": [
    "# SEGMENTING CUSTOMERS"
   ]
  },
  {
   "cell_type": "markdown",
   "metadata": {},
   "source": [
    "---"
   ]
  },
  {
   "cell_type": "markdown",
   "metadata": {},
   "source": [
    "#### Compute Total Score"
   ]
  },
  {
   "cell_type": "code",
   "execution_count": 40,
   "metadata": {},
   "outputs": [
    {
     "data": {
      "text/html": [
       "<div>\n",
       "<style scoped>\n",
       "    .dataframe tbody tr th:only-of-type {\n",
       "        vertical-align: middle;\n",
       "    }\n",
       "\n",
       "    .dataframe tbody tr th {\n",
       "        vertical-align: top;\n",
       "    }\n",
       "\n",
       "    .dataframe thead th {\n",
       "        text-align: right;\n",
       "    }\n",
       "</style>\n",
       "<table border=\"1\" class=\"dataframe\">\n",
       "  <thead>\n",
       "    <tr style=\"text-align: right;\">\n",
       "      <th></th>\n",
       "      <th>CustomerID</th>\n",
       "      <th>Recency</th>\n",
       "      <th>Frequency</th>\n",
       "      <th>Monetary</th>\n",
       "      <th>RecencyCluster</th>\n",
       "      <th>FrequencyCluster</th>\n",
       "      <th>MonetaryCluster</th>\n",
       "      <th>TotalScore</th>\n",
       "      <th>SegmentID</th>\n",
       "    </tr>\n",
       "  </thead>\n",
       "  <tbody>\n",
       "    <tr>\n",
       "      <th>0</th>\n",
       "      <td>12346.0</td>\n",
       "      <td>1.543469</td>\n",
       "      <td>-2.568435</td>\n",
       "      <td>6.608337</td>\n",
       "      <td>0</td>\n",
       "      <td>0</td>\n",
       "      <td>2</td>\n",
       "      <td>2</td>\n",
       "      <td>002</td>\n",
       "    </tr>\n",
       "    <tr>\n",
       "      <th>1</th>\n",
       "      <td>12347.0</td>\n",
       "      <td>-0.343482</td>\n",
       "      <td>1.166124</td>\n",
       "      <td>1.291771</td>\n",
       "      <td>2</td>\n",
       "      <td>2</td>\n",
       "      <td>1</td>\n",
       "      <td>5</td>\n",
       "      <td>221</td>\n",
       "    </tr>\n",
       "    <tr>\n",
       "      <th>2</th>\n",
       "      <td>12348.0</td>\n",
       "      <td>0.152324</td>\n",
       "      <td>-0.218665</td>\n",
       "      <td>0.459867</td>\n",
       "      <td>1</td>\n",
       "      <td>1</td>\n",
       "      <td>1</td>\n",
       "      <td>3</td>\n",
       "      <td>111</td>\n",
       "    </tr>\n",
       "    <tr>\n",
       "      <th>3</th>\n",
       "      <td>12349.0</td>\n",
       "      <td>-0.840000</td>\n",
       "      <td>0.435542</td>\n",
       "      <td>0.441642</td>\n",
       "      <td>2</td>\n",
       "      <td>1</td>\n",
       "      <td>1</td>\n",
       "      <td>4</td>\n",
       "      <td>211</td>\n",
       "    </tr>\n",
       "    <tr>\n",
       "      <th>4</th>\n",
       "      <td>12350.0</td>\n",
       "      <td>1.491995</td>\n",
       "      <td>-0.660525</td>\n",
       "      <td>-0.594668</td>\n",
       "      <td>0</td>\n",
       "      <td>1</td>\n",
       "      <td>0</td>\n",
       "      <td>1</td>\n",
       "      <td>010</td>\n",
       "    </tr>\n",
       "  </tbody>\n",
       "</table>\n",
       "</div>"
      ],
      "text/plain": [
       "   CustomerID   Recency  Frequency  Monetary  RecencyCluster  \\\n",
       "0     12346.0  1.543469  -2.568435  6.608337               0   \n",
       "1     12347.0 -0.343482   1.166124  1.291771               2   \n",
       "2     12348.0  0.152324  -0.218665  0.459867               1   \n",
       "3     12349.0 -0.840000   0.435542  0.441642               2   \n",
       "4     12350.0  1.491995  -0.660525 -0.594668               0   \n",
       "\n",
       "   FrequencyCluster  MonetaryCluster  TotalScore SegmentID  \n",
       "0                 0                2           2       002  \n",
       "1                 2                1           5       221  \n",
       "2                 1                1           3       111  \n",
       "3                 1                1           4       211  \n",
       "4                 1                0           1       010  "
      ]
     },
     "execution_count": 40,
     "metadata": {},
     "output_type": "execute_result"
    }
   ],
   "source": [
    "customers_scaled['TotalScore']= customers_scaled['RecencyCluster'] + customers_scaled['FrequencyCluster'] + customers_scaled['MonetaryCluster']\n",
    "customers_scaled['SegmentID'] = customers_scaled.apply(lambda x: (str(int(x['RecencyCluster'])) + str(int(x['FrequencyCluster'])) + str(int(x['MonetaryCluster']))), axis=1)\n",
    "customers_scaled.head(5)"
   ]
  },
  {
   "cell_type": "code",
   "execution_count": 41,
   "metadata": {},
   "outputs": [
    {
     "data": {
      "text/html": [
       "<div>\n",
       "<style scoped>\n",
       "    .dataframe tbody tr th:only-of-type {\n",
       "        vertical-align: middle;\n",
       "    }\n",
       "\n",
       "    .dataframe tbody tr th {\n",
       "        vertical-align: top;\n",
       "    }\n",
       "\n",
       "    .dataframe thead th {\n",
       "        text-align: right;\n",
       "    }\n",
       "</style>\n",
       "<table border=\"1\" class=\"dataframe\">\n",
       "  <thead>\n",
       "    <tr style=\"text-align: right;\">\n",
       "      <th></th>\n",
       "      <th>SegmentID</th>\n",
       "    </tr>\n",
       "  </thead>\n",
       "  <tbody>\n",
       "    <tr>\n",
       "      <th>322</th>\n",
       "      <td>20</td>\n",
       "    </tr>\n",
       "    <tr>\n",
       "      <th>321</th>\n",
       "      <td>157</td>\n",
       "    </tr>\n",
       "    <tr>\n",
       "      <th>320</th>\n",
       "      <td>12</td>\n",
       "    </tr>\n",
       "    <tr>\n",
       "      <th>312</th>\n",
       "      <td>1</td>\n",
       "    </tr>\n",
       "    <tr>\n",
       "      <th>311</th>\n",
       "      <td>39</td>\n",
       "    </tr>\n",
       "    <tr>\n",
       "      <th>310</th>\n",
       "      <td>84</td>\n",
       "    </tr>\n",
       "    <tr>\n",
       "      <th>301</th>\n",
       "      <td>2</td>\n",
       "    </tr>\n",
       "    <tr>\n",
       "      <th>300</th>\n",
       "      <td>26</td>\n",
       "    </tr>\n",
       "    <tr>\n",
       "      <th>222</th>\n",
       "      <td>32</td>\n",
       "    </tr>\n",
       "    <tr>\n",
       "      <th>221</th>\n",
       "      <td>497</td>\n",
       "    </tr>\n",
       "    <tr>\n",
       "      <th>220</th>\n",
       "      <td>125</td>\n",
       "    </tr>\n",
       "    <tr>\n",
       "      <th>212</th>\n",
       "      <td>2</td>\n",
       "    </tr>\n",
       "    <tr>\n",
       "      <th>211</th>\n",
       "      <td>123</td>\n",
       "    </tr>\n",
       "    <tr>\n",
       "      <th>210</th>\n",
       "      <td>434</td>\n",
       "    </tr>\n",
       "    <tr>\n",
       "      <th>202</th>\n",
       "      <td>1</td>\n",
       "    </tr>\n",
       "    <tr>\n",
       "      <th>201</th>\n",
       "      <td>9</td>\n",
       "    </tr>\n",
       "    <tr>\n",
       "      <th>200</th>\n",
       "      <td>168</td>\n",
       "    </tr>\n",
       "    <tr>\n",
       "      <th>122</th>\n",
       "      <td>3</td>\n",
       "    </tr>\n",
       "    <tr>\n",
       "      <th>121</th>\n",
       "      <td>244</td>\n",
       "    </tr>\n",
       "    <tr>\n",
       "      <th>120</th>\n",
       "      <td>89</td>\n",
       "    </tr>\n",
       "    <tr>\n",
       "      <th>112</th>\n",
       "      <td>1</td>\n",
       "    </tr>\n",
       "    <tr>\n",
       "      <th>111</th>\n",
       "      <td>122</td>\n",
       "    </tr>\n",
       "    <tr>\n",
       "      <th>110</th>\n",
       "      <td>576</td>\n",
       "    </tr>\n",
       "    <tr>\n",
       "      <th>102</th>\n",
       "      <td>2</td>\n",
       "    </tr>\n",
       "    <tr>\n",
       "      <th>101</th>\n",
       "      <td>16</td>\n",
       "    </tr>\n",
       "    <tr>\n",
       "      <th>100</th>\n",
       "      <td>312</td>\n",
       "    </tr>\n",
       "    <tr>\n",
       "      <th>021</th>\n",
       "      <td>50</td>\n",
       "    </tr>\n",
       "    <tr>\n",
       "      <th>020</th>\n",
       "      <td>57</td>\n",
       "    </tr>\n",
       "    <tr>\n",
       "      <th>011</th>\n",
       "      <td>36</td>\n",
       "    </tr>\n",
       "    <tr>\n",
       "      <th>010</th>\n",
       "      <td>582</td>\n",
       "    </tr>\n",
       "    <tr>\n",
       "      <th>002</th>\n",
       "      <td>1</td>\n",
       "    </tr>\n",
       "    <tr>\n",
       "      <th>001</th>\n",
       "      <td>16</td>\n",
       "    </tr>\n",
       "    <tr>\n",
       "      <th>000</th>\n",
       "      <td>500</td>\n",
       "    </tr>\n",
       "  </tbody>\n",
       "</table>\n",
       "</div>"
      ],
      "text/plain": [
       "     SegmentID\n",
       "322         20\n",
       "321        157\n",
       "320         12\n",
       "312          1\n",
       "311         39\n",
       "310         84\n",
       "301          2\n",
       "300         26\n",
       "222         32\n",
       "221        497\n",
       "220        125\n",
       "212          2\n",
       "211        123\n",
       "210        434\n",
       "202          1\n",
       "201          9\n",
       "200        168\n",
       "122          3\n",
       "121        244\n",
       "120         89\n",
       "112          1\n",
       "111        122\n",
       "110        576\n",
       "102          2\n",
       "101         16\n",
       "100        312\n",
       "021         50\n",
       "020         57\n",
       "011         36\n",
       "010        582\n",
       "002          1\n",
       "001         16\n",
       "000        500"
      ]
     },
     "execution_count": 41,
     "metadata": {},
     "output_type": "execute_result"
    }
   ],
   "source": [
    "a= pd.DataFrame(customers_scaled['SegmentID'].value_counts())\n",
    "a.sort_index(ascending=False)"
   ]
  },
  {
   "cell_type": "code",
   "execution_count": 42,
   "metadata": {},
   "outputs": [
    {
     "data": {
      "text/plain": [
       "1    910\n",
       "2    854\n",
       "3    732\n",
       "4    580\n",
       "5    553\n",
       "0    500\n",
       "6    190\n",
       "7     20\n",
       "Name: TotalScore, dtype: int64"
      ]
     },
     "execution_count": 42,
     "metadata": {},
     "output_type": "execute_result"
    }
   ],
   "source": [
    "customers_scaled['TotalScore'].value_counts()"
   ]
  },
  {
   "cell_type": "markdown",
   "metadata": {},
   "source": [
    "### Assign Customer Group Names\n",
    "\n",
    "**High Value Customer**\n",
    "* High Recency(2,3), Frequency(2) and Monetary Value(2)\n",
    "- SegmentID : 322,321,312,311,222,221,212\n",
    "\n",
    "**New Customers**\n",
    "* High Recency(2,3), Low Frequency(0) and lower Monetary Value(0,1)\n",
    "- SegmentID : 320,310,302,301,300,220,210,202,201,200\n",
    "\n",
    "**Low Value Customer**\n",
    "* Low Recency(0), Frequency(0) and Monetary Value(0)\n",
    "- SegmentID : 000,001,002,100,101\n",
    "\n",
    "**Non-Returning Customers**\n",
    "* Low Recency(0), Higher Frequency(2) and Hihger Monetary Value(2)\n",
    "- SegmentID : 010,011,012,020,021,022\n",
    "\n",
    "**Mid Value Customers**\n",
    "- SegmentID : Rest of the IDs\n"
   ]
  },
  {
   "cell_type": "code",
   "execution_count": 43,
   "metadata": {},
   "outputs": [
    {
     "data": {
      "text/plain": [
       "Mid-Value        1160\n",
       "New_Customer      861\n",
       "Low-Value         845\n",
       "High-Value        748\n",
       "Non-Returning     725\n",
       "Name: Segment, dtype: int64"
      ]
     },
     "execution_count": 43,
     "metadata": {},
     "output_type": "execute_result"
    }
   ],
   "source": [
    "customers_scaled['Segment'] = 'Mid-Value'\n",
    "customers_scaled.loc[customers_scaled['SegmentID'].isin(['322','321','312','311','222','221','212']), 'Segment'] = 'High-Value'\n",
    "customers_scaled.loc[customers_scaled['SegmentID'].isin(['320','310','302','301','300','220','210','202','201','200']), 'Segment'] = 'New_Customer'\n",
    "customers_scaled.loc[customers_scaled['SegmentID'].isin(['000','001','002','100','101']), 'Segment'] = 'Low-Value'\n",
    "customers_scaled.loc[customers_scaled['SegmentID'].isin(['010','011','012','020','021','022']), 'Segment'] = 'Non-Returning'\n",
    "customers_scaled['Segment'].value_counts()\n"
   ]
  },
  {
   "cell_type": "markdown",
   "metadata": {},
   "source": [
    "---"
   ]
  },
  {
   "cell_type": "markdown",
   "metadata": {},
   "source": [
    "# VISUALISING THE CLUSTERS"
   ]
  },
  {
   "cell_type": "markdown",
   "metadata": {},
   "source": [
    "---"
   ]
  },
  {
   "cell_type": "code",
   "execution_count": 44,
   "metadata": {},
   "outputs": [
    {
     "data": {
      "text/html": [
       "<div>\n",
       "<style scoped>\n",
       "    .dataframe tbody tr th:only-of-type {\n",
       "        vertical-align: middle;\n",
       "    }\n",
       "\n",
       "    .dataframe tbody tr th {\n",
       "        vertical-align: top;\n",
       "    }\n",
       "\n",
       "    .dataframe thead th {\n",
       "        text-align: right;\n",
       "    }\n",
       "</style>\n",
       "<table border=\"1\" class=\"dataframe\">\n",
       "  <thead>\n",
       "    <tr style=\"text-align: right;\">\n",
       "      <th></th>\n",
       "      <th>CustomerID</th>\n",
       "      <th>Recency</th>\n",
       "      <th>Frequency</th>\n",
       "      <th>Monetary</th>\n",
       "      <th>RecencyCluster</th>\n",
       "      <th>FrequencyCluster</th>\n",
       "      <th>MonetaryCluster</th>\n",
       "      <th>TotalScore</th>\n",
       "      <th>SegmentID</th>\n",
       "      <th>Segment</th>\n",
       "    </tr>\n",
       "  </thead>\n",
       "  <tbody>\n",
       "    <tr>\n",
       "      <th>4239</th>\n",
       "      <td>18154.0</td>\n",
       "      <td>-0.273955</td>\n",
       "      <td>-0.506677</td>\n",
       "      <td>-0.509353</td>\n",
       "      <td>1</td>\n",
       "      <td>1</td>\n",
       "      <td>0</td>\n",
       "      <td>2</td>\n",
       "      <td>110</td>\n",
       "      <td>Mid-Value</td>\n",
       "    </tr>\n",
       "    <tr>\n",
       "      <th>1740</th>\n",
       "      <td>14713.0</td>\n",
       "      <td>-1.204544</td>\n",
       "      <td>1.683723</td>\n",
       "      <td>0.805203</td>\n",
       "      <td>2</td>\n",
       "      <td>2</td>\n",
       "      <td>1</td>\n",
       "      <td>5</td>\n",
       "      <td>221</td>\n",
       "      <td>High-Value</td>\n",
       "    </tr>\n",
       "    <tr>\n",
       "      <th>4174</th>\n",
       "      <td>18066.0</td>\n",
       "      <td>0.152324</td>\n",
       "      <td>-1.039509</td>\n",
       "      <td>-0.617988</td>\n",
       "      <td>1</td>\n",
       "      <td>0</td>\n",
       "      <td>0</td>\n",
       "      <td>1</td>\n",
       "      <td>100</td>\n",
       "      <td>Low-Value</td>\n",
       "    </tr>\n",
       "    <tr>\n",
       "      <th>2458</th>\n",
       "      <td>15689.0</td>\n",
       "      <td>-1.866713</td>\n",
       "      <td>-1.113526</td>\n",
       "      <td>-0.717388</td>\n",
       "      <td>3</td>\n",
       "      <td>0</td>\n",
       "      <td>0</td>\n",
       "      <td>3</td>\n",
       "      <td>300</td>\n",
       "      <td>New_Customer</td>\n",
       "    </tr>\n",
       "    <tr>\n",
       "      <th>64</th>\n",
       "      <td>12426.0</td>\n",
       "      <td>1.006578</td>\n",
       "      <td>-0.243138</td>\n",
       "      <td>-0.309342</td>\n",
       "      <td>0</td>\n",
       "      <td>1</td>\n",
       "      <td>0</td>\n",
       "      <td>1</td>\n",
       "      <td>010</td>\n",
       "      <td>Non-Returning</td>\n",
       "    </tr>\n",
       "  </tbody>\n",
       "</table>\n",
       "</div>"
      ],
      "text/plain": [
       "      CustomerID   Recency  Frequency  Monetary  RecencyCluster  \\\n",
       "4239     18154.0 -0.273955  -0.506677 -0.509353               1   \n",
       "1740     14713.0 -1.204544   1.683723  0.805203               2   \n",
       "4174     18066.0  0.152324  -1.039509 -0.617988               1   \n",
       "2458     15689.0 -1.866713  -1.113526 -0.717388               3   \n",
       "64       12426.0  1.006578  -0.243138 -0.309342               0   \n",
       "\n",
       "      FrequencyCluster  MonetaryCluster  TotalScore SegmentID        Segment  \n",
       "4239                 1                0           2       110      Mid-Value  \n",
       "1740                 2                1           5       221     High-Value  \n",
       "4174                 0                0           1       100      Low-Value  \n",
       "2458                 0                0           3       300   New_Customer  \n",
       "64                   1                0           1       010  Non-Returning  "
      ]
     },
     "execution_count": 44,
     "metadata": {},
     "output_type": "execute_result"
    }
   ],
   "source": [
    "customers_scaled.sample(5)"
   ]
  },
  {
   "cell_type": "code",
   "execution_count": 45,
   "metadata": {},
   "outputs": [
    {
     "data": {
      "text/plain": [
       "<matplotlib.axes._subplots.AxesSubplot at 0x1a22579190>"
      ]
     },
     "execution_count": 45,
     "metadata": {},
     "output_type": "execute_result"
    },
    {
     "data": {
      "image/png": "[encoded data removed]",
      "text/plain": [
       "<Figure size 432x288 with 1 Axes>"
      ]
     },
     "metadata": {
      "needs_background": "light"
     },
     "output_type": "display_data"
    }
   ],
   "source": [
    "sns.scatterplot(data=customers_scaled, x='Frequency',y='Recency', hue='Segment')"
   ]
  },
  {
   "cell_type": "code",
   "execution_count": 46,
   "metadata": {},
   "outputs": [
    {
     "data": {
      "text/plain": [
       "<matplotlib.axes._subplots.AxesSubplot at 0x1a2287bad0>"
      ]
     },
     "execution_count": 46,
     "metadata": {},
     "output_type": "execute_result"
    },
    {
     "data": {
      "image/png": "[encoded data removed]",
      "text/plain": [
       "<Figure size 432x288 with 1 Axes>"
      ]
     },
     "metadata": {
      "needs_background": "light"
     },
     "output_type": "display_data"
    }
   ],
   "source": [
    "sns.scatterplot(data=customers_scaled, x='Monetary',y='Recency', hue='Segment')"
   ]
  },
  {
   "cell_type": "code",
   "execution_count": 47,
   "metadata": {},
   "outputs": [
    {
     "data": {
      "text/plain": [
       "<matplotlib.axes._subplots.AxesSubplot at 0x1a23d43bd0>"
      ]
     },
     "execution_count": 47,
     "metadata": {},
     "output_type": "execute_result"
    },
    {
     "data": {
      "image/png": "[encoded data removed]",
      "text/plain": [
       "<Figure size 432x288 with 1 Axes>"
      ]
     },
     "metadata": {
      "needs_background": "light"
     },
     "output_type": "display_data"
    }
   ],
   "source": [
    "sns.scatterplot(data=customers_scaled, x='Frequency',y='Monetary', hue='Segment')"
   ]
  },
  {
   "cell_type": "markdown",
   "metadata": {},
   "source": [
    "---"
   ]
  },
  {
   "cell_type": "markdown",
   "metadata": {},
   "source": [
    "# SEGMENT ANALYSIS"
   ]
  },
  {
   "cell_type": "markdown",
   "metadata": {},
   "source": [
    "Based on the R/F/M Clusters individually obtained for each of the variables Recency, Frequency and Monetary Value in the RFM table, identify customer characteristics and assign the following Segments\n",
    "\n",
    "#### New Customers\n",
    "Customers with High Recency and moderate frequency which may have higher monetary value can be identified as New Customers. They have started visiting the store recently since their recency and frequency are higher, since they are new they havn't yet contributed a lot to the Sales.\n",
    "\n",
    "#### Non Returning Customers\n",
    "Customers showing a very low Recency, but higher frequency and monetary value may indicate customers who were regular at some point in the past but are not visiting the stores anymore\n",
    "\n",
    "#### High Value Customers\n",
    "Customers that have a high Recency, high Frequency and High Monetary value fall in this category. They are the regular customers who add much to the Sales of the store.\n",
    "\n",
    "#### Low Value Customers\n",
    "Customers particularly characterised by lowest Frequency while having a low Recency and low Monetary value fall in this category. This may signify customers who came to the store for few purchases and never returned\n",
    "\n",
    "#### Mid Value Customers\n",
    "All the other customers are identified as Mid-Value Customers with moderate values for RFM"
   ]
  },
  {
   "cell_type": "markdown",
   "metadata": {},
   "source": [
    "---"
   ]
  },
  {
   "cell_type": "markdown",
   "metadata": {},
   "source": [
    "# CONCLUSION on KMeans"
   ]
  },
  {
   "cell_type": "markdown",
   "metadata": {},
   "source": [
    "- KMeans Clustering is suited for naturally occuring Circular clusters in 2D visualisation\n",
    "- Here the clusters are clearly visible but visualy, the demarcation between clusters is observed to be linear"
   ]
  },
  {
   "cell_type": "markdown",
   "metadata": {},
   "source": [
    "### Takeaways"
   ]
  },
  {
   "cell_type": "markdown",
   "metadata": {},
   "source": [
    "- Try Other Clustering Algorithms and Compare the results"
   ]
  },
  {
   "cell_type": "code",
   "execution_count": null,
   "metadata": {},
   "outputs": [],
   "source": []
  }
 ],
 "metadata": {
  "kernelspec": {
   "display_name": "Python 3",
   "language": "python",
   "name": "python3"
  },
  "language_info": {
   "codemirror_mode": {
    "name": "ipython",
    "version": 3
   },
   "file_extension": ".py",
   "mimetype": "text/x-python",
   "name": "python",
   "nbconvert_exporter": "python",
   "pygments_lexer": "ipython3",
   "version": "3.7.6"
  }
 },
 "nbformat": 4,
 "nbformat_minor": 4
}
